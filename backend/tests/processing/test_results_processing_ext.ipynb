{
 "cells": [
  {
   "cell_type": "code",
   "execution_count": null,
   "metadata": {},
   "outputs": [],
   "source": [
    "import json\n",
    "import pandas as pd"
   ]
  },
  {
   "cell_type": "code",
   "execution_count": null,
   "metadata": {},
   "outputs": [],
   "source": [
    "with open(\"../results/benchmark_results_log_ext.json\") as f:\n",
    "    data_log_ext = json.load(f)"
   ]
  },
  {
   "cell_type": "code",
   "execution_count": null,
   "metadata": {},
   "outputs": [],
   "source": [
    "\n",
    "# Extract benchmark results\n",
    "rows = []\n",
    "for bench in data_log_ext[\"benchmarks\"]:\n",
    "    row = {\n",
    "        \"Test Name\": bench[\"name\"],\n",
    "        \"Event log\": bench[\"extra_info\"].get(\"Event log\", \"N/A\"),\n",
    "        \"Dataset\": bench[\"name\"][bench[\"name\"].find(\"[\")+1 : bench[\"name\"].find(\"]\")],\n",
    "        \"Rule id\": bench[\"extra_info\"].get(\"Rule id\", \"N/A\"),\n",
    "        \"Mean Time (µs)\": bench[\"stats\"][\"mean\"],\n",
    "        \"Min Time (µs)\": bench[\"stats\"][\"min\"],\n",
    "        \"Max Time (µs)\": bench[\"stats\"][\"max\"],\n",
    "        \"Std Dev\": bench[\"stats\"][\"stddev\"],\n",
    "        \"|events|\": bench[\"extra_info\"].get(\"|events|\", \"N/A\"),\n",
    "        \"|objects|\": bench[\"extra_info\"].get(\"|objects|\", \"N/A\"),\n",
    "        \"|epA|\": bench[\"extra_info\"].get(\"|epA|\", \"N/A\"),\n",
    "        \"|epB|\": bench[\"extra_info\"].get(\"|epB|\", \"N/A\"),\n",
    "        \"|psi|\": bench[\"extra_info\"].get(\"|psi|\", \"N/A\"),\n",
    "        \"Memory Used (MB)\": bench[\"extra_info\"].get(\"memory_used\", \"N/A\"),\n",
    "    }\n",
    "    rows.append(row)\n",
    "\n",
    "\n"
   ]
  },
  {
   "cell_type": "code",
   "execution_count": null,
   "metadata": {},
   "outputs": [],
   "source": [
    "df = pd.DataFrame(rows)\n",
    "df"
   ]
  },
  {
   "cell_type": "code",
   "execution_count": null,
   "metadata": {},
   "outputs": [],
   "source": [
    "# Convert to numeric\n",
    "df[\"Mean Time (µs)\"] = pd.to_numeric(df[\"Mean Time (µs)\"], errors=\"coerce\")\n",
    "df[\"|events|\"] = pd.to_numeric(df[\"|events|\"], errors=\"coerce\")"
   ]
  },
  {
   "cell_type": "code",
   "execution_count": null,
   "metadata": {},
   "outputs": [],
   "source": [
    "average_time = df.groupby(['Dataset', 'Rule id', '|events|'])['Mean Time (µs)'].mean().reset_index()\n",
    "average_time"
   ]
  },
  {
   "cell_type": "code",
   "execution_count": null,
   "metadata": {},
   "outputs": [],
   "source": [
    "average_time = average_time.reset_index()\n",
    "average_time"
   ]
  },
  {
   "cell_type": "code",
   "execution_count": null,
   "metadata": {},
   "outputs": [],
   "source": [
    "# Pivot the table to get the required format\n",
    "df_pivot = average_time.pivot(index=\"Dataset\", columns=\"Rule id\", values=\"Mean Time (µs)\").reset_index()\n",
    "\n",
    "# Reordering columns\n",
    "df_pivot.insert(1, \"|events|\", average_time.groupby(\"Dataset\")[\"|events|\"].first().values)"
   ]
  },
  {
   "cell_type": "code",
   "execution_count": null,
   "metadata": {},
   "outputs": [],
   "source": [
    "df_pivot.columns"
   ]
  },
  {
   "cell_type": "code",
   "execution_count": null,
   "metadata": {},
   "outputs": [],
   "source": [
    "df_pivot"
   ]
  },
  {
   "cell_type": "code",
   "execution_count": null,
   "metadata": {},
   "outputs": [],
   "source": [
    "df_pivot.to_csv(\"results_average_ext.csv\", index=False)"
   ]
  },
  {
   "cell_type": "code",
   "execution_count": null,
   "metadata": {},
   "outputs": [],
   "source": []
  }
 ],
 "metadata": {
  "kernelspec": {
   "display_name": "Python 3",
   "language": "python",
   "name": "python3"
  },
  "language_info": {
   "codemirror_mode": {
    "name": "ipython",
    "version": 3
   },
   "file_extension": ".py",
   "mimetype": "text/x-python",
   "name": "python",
   "nbconvert_exporter": "python",
   "pygments_lexer": "ipython3",
   "version": "3.13.0"
  }
 },
 "nbformat": 4,
 "nbformat_minor": 2
}
